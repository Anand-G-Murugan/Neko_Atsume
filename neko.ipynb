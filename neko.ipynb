{
 "cells": [
  {
   "attachments": {},
   "cell_type": "markdown",
   "metadata": {},
   "source": [
    "# Neko Atsume Analysis"
   ]
  },
  {
   "cell_type": "code",
   "execution_count": 1,
   "metadata": {},
   "outputs": [],
   "source": [
    "import pandas as pd\n",
    "import numpy as np\n",
    "import matplotlib.pyplot as plt\n",
    "import seaborn as sns"
   ]
  },
  {
   "cell_type": "code",
   "execution_count": 2,
   "metadata": {},
   "outputs": [],
   "source": [
    "df = pd.read_csv('./Copy of Neko Atsume Data 1.13.0 - Neko Atsume Data v.1.13.0.csv')"
   ]
  },
  {
   "cell_type": "code",
   "execution_count": 3,
   "metadata": {},
   "outputs": [
    {
     "data": {
      "text/html": [
       "<div>\n",
       "<style scoped>\n",
       "    .dataframe tbody tr th:only-of-type {\n",
       "        vertical-align: middle;\n",
       "    }\n",
       "\n",
       "    .dataframe tbody tr th {\n",
       "        vertical-align: top;\n",
       "    }\n",
       "\n",
       "    .dataframe thead th {\n",
       "        text-align: right;\n",
       "    }\n",
       "</style>\n",
       "<table border=\"1\" class=\"dataframe\">\n",
       "  <thead>\n",
       "    <tr style=\"text-align: right;\">\n",
       "      <th></th>\n",
       "      <th>Name</th>\n",
       "      <th>Original Row Sort</th>\n",
       "      <th>Snowball</th>\n",
       "      <th>Smokey</th>\n",
       "      <th>Spots</th>\n",
       "      <th>Shadow</th>\n",
       "      <th>Sunny</th>\n",
       "      <th>Fred</th>\n",
       "      <th>Pumpkin</th>\n",
       "      <th>Callie</th>\n",
       "      <th>...</th>\n",
       "      <th>Ramses the Great</th>\n",
       "      <th>Sassy Fran</th>\n",
       "      <th>Billy the Kitten</th>\n",
       "      <th>Frosty</th>\n",
       "      <th>Sapphire</th>\n",
       "      <th>Jeeves</th>\n",
       "      <th>Bengal Jack</th>\n",
       "      <th>Whiteshadow</th>\n",
       "      <th>Hermeowne</th>\n",
       "      <th>Kitty Hawks</th>\n",
       "    </tr>\n",
       "  </thead>\n",
       "  <tbody>\n",
       "    <tr>\n",
       "      <th>0</th>\n",
       "      <td>Cat Index</td>\n",
       "      <td>1</td>\n",
       "      <td>0</td>\n",
       "      <td>1</td>\n",
       "      <td>2</td>\n",
       "      <td>3</td>\n",
       "      <td>4</td>\n",
       "      <td>5</td>\n",
       "      <td>6</td>\n",
       "      <td>7</td>\n",
       "      <td>...</td>\n",
       "      <td>58</td>\n",
       "      <td>59</td>\n",
       "      <td>60</td>\n",
       "      <td>61</td>\n",
       "      <td>62</td>\n",
       "      <td>63</td>\n",
       "      <td>64</td>\n",
       "      <td>65</td>\n",
       "      <td>66</td>\n",
       "      <td>44</td>\n",
       "    </tr>\n",
       "    <tr>\n",
       "      <th>1</th>\n",
       "      <td>Power Level</td>\n",
       "      <td>2</td>\n",
       "      <td>80</td>\n",
       "      <td>140</td>\n",
       "      <td>75</td>\n",
       "      <td>50</td>\n",
       "      <td>120</td>\n",
       "      <td>150</td>\n",
       "      <td>90</td>\n",
       "      <td>50</td>\n",
       "      <td>...</td>\n",
       "      <td>230</td>\n",
       "      <td>180</td>\n",
       "      <td>250</td>\n",
       "      <td>5</td>\n",
       "      <td>20</td>\n",
       "      <td>210</td>\n",
       "      <td>66</td>\n",
       "      <td>195</td>\n",
       "      <td>200</td>\n",
       "      <td>100</td>\n",
       "    </tr>\n",
       "    <tr>\n",
       "      <th>2</th>\n",
       "      <td>Regular?</td>\n",
       "      <td>3</td>\n",
       "      <td>TRUE</td>\n",
       "      <td>TRUE</td>\n",
       "      <td>TRUE</td>\n",
       "      <td>TRUE</td>\n",
       "      <td>TRUE</td>\n",
       "      <td>TRUE</td>\n",
       "      <td>TRUE</td>\n",
       "      <td>TRUE</td>\n",
       "      <td>...</td>\n",
       "      <td>FALSE</td>\n",
       "      <td>FALSE</td>\n",
       "      <td>FALSE</td>\n",
       "      <td>FALSE</td>\n",
       "      <td>FALSE</td>\n",
       "      <td>FALSE</td>\n",
       "      <td>FALSE</td>\n",
       "      <td>FALSE</td>\n",
       "      <td>FALSE</td>\n",
       "      <td>FALSE</td>\n",
       "    </tr>\n",
       "    <tr>\n",
       "      <th>3</th>\n",
       "      <td>Fish Gift Factor</td>\n",
       "      <td>4</td>\n",
       "      <td>90</td>\n",
       "      <td>120</td>\n",
       "      <td>85</td>\n",
       "      <td>130</td>\n",
       "      <td>70</td>\n",
       "      <td>300</td>\n",
       "      <td>100</td>\n",
       "      <td>75</td>\n",
       "      <td>...</td>\n",
       "      <td>400</td>\n",
       "      <td>290</td>\n",
       "      <td>77</td>\n",
       "      <td>350</td>\n",
       "      <td>15</td>\n",
       "      <td>1200</td>\n",
       "      <td>200</td>\n",
       "      <td>450</td>\n",
       "      <td>400</td>\n",
       "      <td>500</td>\n",
       "    </tr>\n",
       "    <tr>\n",
       "      <th>4</th>\n",
       "      <td>NaN</td>\n",
       "      <td>5</td>\n",
       "      <td>NaN</td>\n",
       "      <td>NaN</td>\n",
       "      <td>NaN</td>\n",
       "      <td>NaN</td>\n",
       "      <td>NaN</td>\n",
       "      <td>NaN</td>\n",
       "      <td>NaN</td>\n",
       "      <td>NaN</td>\n",
       "      <td>...</td>\n",
       "      <td>NaN</td>\n",
       "      <td>NaN</td>\n",
       "      <td>NaN</td>\n",
       "      <td>NaN</td>\n",
       "      <td>NaN</td>\n",
       "      <td>NaN</td>\n",
       "      <td>NaN</td>\n",
       "      <td>NaN</td>\n",
       "      <td>NaN</td>\n",
       "      <td>NaN</td>\n",
       "    </tr>\n",
       "  </tbody>\n",
       "</table>\n",
       "<p>5 rows × 69 columns</p>\n",
       "</div>"
      ],
      "text/plain": [
       "               Name  Original Row Sort Snowball Smokey Spots Shadow Sunny   \n",
       "0         Cat Index                  1        0      1     2      3     4  \\\n",
       "1       Power Level                  2       80    140    75     50   120   \n",
       "2          Regular?                  3     TRUE   TRUE  TRUE   TRUE  TRUE   \n",
       "3  Fish Gift Factor                  4       90    120    85    130    70   \n",
       "4               NaN                  5      NaN    NaN   NaN    NaN   NaN   \n",
       "\n",
       "   Fred Pumpkin Callie  ... Ramses the Great Sassy Fran Billy the Kitten   \n",
       "0     5       6      7  ...               58         59               60  \\\n",
       "1   150      90     50  ...              230        180              250   \n",
       "2  TRUE    TRUE   TRUE  ...            FALSE      FALSE            FALSE   \n",
       "3   300     100     75  ...              400        290               77   \n",
       "4   NaN     NaN    NaN  ...              NaN        NaN              NaN   \n",
       "\n",
       "  Frosty Sapphire Jeeves Bengal Jack Whiteshadow Hermeowne Kitty Hawks  \n",
       "0     61       62     63          64          65        66          44  \n",
       "1      5       20    210          66         195       200         100  \n",
       "2  FALSE    FALSE  FALSE       FALSE       FALSE     FALSE       FALSE  \n",
       "3    350       15   1200         200         450       400         500  \n",
       "4    NaN      NaN    NaN         NaN         NaN       NaN         NaN  \n",
       "\n",
       "[5 rows x 69 columns]"
      ]
     },
     "execution_count": 3,
     "metadata": {},
     "output_type": "execute_result"
    }
   ],
   "source": [
    "df.head()"
   ]
  },
  {
   "cell_type": "code",
   "execution_count": 4,
   "metadata": {},
   "outputs": [
    {
     "data": {
      "text/plain": [
       "0                  Cat Index\n",
       "1                Power Level\n",
       "2                   Regular?\n",
       "3           Fish Gift Factor\n",
       "4                        NaN\n",
       "               ...          \n",
       "314    Kiddy Rucksack (Blue)\n",
       "315    Kiddy Rucksack (Lime)\n",
       "316    Bamboo House (inside)\n",
       "317       Bamboo House (top)\n",
       "318            Bamboo Rocket\n",
       "Name: Name, Length: 319, dtype: object"
      ]
     },
     "execution_count": 4,
     "metadata": {},
     "output_type": "execute_result"
    }
   ],
   "source": [
    "df[\"Name\"]"
   ]
  },
  {
   "cell_type": "code",
   "execution_count": 5,
   "metadata": {},
   "outputs": [
    {
     "data": {
      "text/plain": [
       "Index(['Name', 'Original Row Sort', 'Snowball', 'Smokey', 'Spots', 'Shadow',\n",
       "       'Sunny', 'Fred', 'Pumpkin', 'Callie', 'Tabitha', 'Bandit', 'Gabriel',\n",
       "       'Marshmallow', 'Socks', 'Lexy', 'Bolt', 'Breezy', 'Misty', 'Pickles',\n",
       "       'Pepper', 'Patches', 'Gozer', 'Cocoa', 'Princess', 'Ginger', 'Peaches',\n",
       "       'Spud', 'Mack', 'Speckles', 'Willie', 'Rascal', 'Dottie', 'Spooky',\n",
       "       'Apricot', 'Ganache', 'Pasty', 'Chip', 'Macchiato', 'Melange',\n",
       "       'Chocola', 'Willow', 'Sooty', 'Quicksilver', 'Maple', 'Caramel',\n",
       "       'Joe DiMeowgio', 'Senor Don Gato', 'Xerxes IX', 'Chairman Meow',\n",
       "       'Saint Purrtrick', 'Ms. Fortune', 'Bob the Cat', 'Conductor Whiskers',\n",
       "       'Tubbs', 'Mr. Meowgi', 'Lady Meow-Meow', 'Guy Furry', 'Kathmandu',\n",
       "       'Ramses the Great', 'Sassy Fran', 'Billy the Kitten', 'Frosty',\n",
       "       'Sapphire', 'Jeeves', 'Bengal Jack', 'Whiteshadow', 'Hermeowne',\n",
       "       'Kitty Hawks'],\n",
       "      dtype='object')"
      ]
     },
     "execution_count": 5,
     "metadata": {},
     "output_type": "execute_result"
    }
   ],
   "source": [
    "df.columns"
   ]
  },
  {
   "cell_type": "code",
   "execution_count": 6,
   "metadata": {},
   "outputs": [],
   "source": [
    "gaps = []\n",
    "for i in range(len(df[\"Name\"])):\n",
    "    # if df[\"Name\"][i] is null, print out the value of i\n",
    "    if df[\"Name\"][i] is np.nan:\n",
    "        gaps.append(i)"
   ]
  },
  {
   "cell_type": "code",
   "execution_count": 7,
   "metadata": {},
   "outputs": [
    {
     "data": {
      "text/plain": [
       "[4, 11, 20, 26]"
      ]
     },
     "execution_count": 7,
     "metadata": {},
     "output_type": "execute_result"
    }
   ],
   "source": [
    "gaps"
   ]
  },
  {
   "cell_type": "code",
   "execution_count": 8,
   "metadata": {},
   "outputs": [],
   "source": [
    "cat_data_df = df[0:4]\n",
    "cat_food_df = df[5:11]\n",
    "cat_unk_df = df[12:20]\n",
    "tubbs_shadow_df = df[21:26]\n",
    "goodies_df = df[27:]"
   ]
  },
  {
   "cell_type": "code",
   "execution_count": 9,
   "metadata": {},
   "outputs": [],
   "source": [
    "# cat_data_df"
   ]
  },
  {
   "cell_type": "code",
   "execution_count": 10,
   "metadata": {},
   "outputs": [],
   "source": [
    "# cat_food_df"
   ]
  },
  {
   "cell_type": "code",
   "execution_count": 11,
   "metadata": {},
   "outputs": [],
   "source": [
    "# goodies_df"
   ]
  },
  {
   "cell_type": "code",
   "execution_count": 12,
   "metadata": {},
   "outputs": [],
   "source": [
    "def convert_columns_to_int(df):\n",
    "    df.iloc[:, 1:] = df.iloc[:, 1:].astype(int)\n",
    "    return df"
   ]
  },
  {
   "cell_type": "code",
   "execution_count": 13,
   "metadata": {},
   "outputs": [],
   "source": [
    "cat_food_df = convert_columns_to_int(cat_food_df)\n",
    "cat_unk_df = convert_columns_to_int(cat_unk_df)\n",
    "tubbs_shadow_df = convert_columns_to_int(tubbs_shadow_df)\n",
    "goodies_df = convert_columns_to_int(goodies_df)"
   ]
  },
  {
   "attachments": {},
   "cell_type": "markdown",
   "metadata": {},
   "source": [
    "## Function to find optimal Food and Goodies for any selected Cat"
   ]
  },
  {
   "cell_type": "code",
   "execution_count": 14,
   "metadata": {},
   "outputs": [],
   "source": [
    "def Find_Cat_Info(cat_name):\n",
    "    cat_data = cat_data_df[[\"Name\", cat_name]]\n",
    "    return(cat_data)\n",
    "\n",
    "def Find_Cat_Food(cat_name):\n",
    "    cat_data = cat_food_df[[\"Name\", cat_name]]\n",
    "    cat_data = cat_data[cat_data[cat_name] > 0].sort_values(by = [cat_name], ascending = False)\n",
    "    return(cat_data)\n",
    "\n",
    "def Find_Cat_Goodies(cat_name):\n",
    "    cat_data = goodies_df[[\"Name\", cat_name]]\n",
    "    cat_data = cat_data[cat_data[cat_name] > 0].sort_values(by = [cat_name], ascending = False)\n",
    "    return(cat_data)"
   ]
  },
  {
   "cell_type": "code",
   "execution_count": 15,
   "metadata": {},
   "outputs": [],
   "source": [
    "# # For example, lets take Spots\n",
    "# cat_name = \"Spots\""
   ]
  },
  {
   "cell_type": "code",
   "execution_count": 16,
   "metadata": {},
   "outputs": [],
   "source": [
    "# Find_Cat_Info(cat_name)"
   ]
  },
  {
   "cell_type": "code",
   "execution_count": 17,
   "metadata": {},
   "outputs": [],
   "source": [
    "# Find_Cat_Food(cat_name)"
   ]
  },
  {
   "cell_type": "code",
   "execution_count": 18,
   "metadata": {},
   "outputs": [],
   "source": [
    "# Find_Cat_Goodies(cat_name)"
   ]
  },
  {
   "cell_type": "code",
   "execution_count": 19,
   "metadata": {},
   "outputs": [],
   "source": [
    "def Optimize_Cat(cat_name):\n",
    "    def filter_rows_greater_than_50_percent(df):\n",
    "        first_score = df[cat_name].max()\n",
    "        df = df[df[cat_name] > (0.5 * first_score)]\n",
    "        return df\n",
    "    \n",
    "    print(\"Optimal Food\")\n",
    "    food_df = Find_Cat_Food(cat_name)\n",
    "    display(food_df)\n",
    "\n",
    "    print(\"Optimal Goodies\")\n",
    "    goodie_df = Find_Cat_Goodies(cat_name)\n",
    "    # We don't want to print everything because the screen gets cluttered.\n",
    "    if len(goodie_df) > 7:\n",
    "        goodie_df  = filter_rows_greater_than_50_percent(goodie_df)\n",
    "    display(goodie_df)    "
   ]
  },
  {
   "cell_type": "code",
   "execution_count": 20,
   "metadata": {},
   "outputs": [
    {
     "data": {
      "text/plain": [
       "Index(['Snowball', 'Smokey', 'Spots', 'Shadow', 'Sunny', 'Fred', 'Pumpkin',\n",
       "       'Callie', 'Tabitha', 'Bandit', 'Gabriel', 'Marshmallow', 'Socks',\n",
       "       'Lexy', 'Bolt', 'Breezy', 'Misty', 'Pickles', 'Pepper', 'Patches',\n",
       "       'Gozer', 'Cocoa', 'Princess', 'Ginger', 'Peaches', 'Spud', 'Mack',\n",
       "       'Speckles', 'Willie', 'Rascal', 'Dottie', 'Spooky', 'Apricot',\n",
       "       'Ganache', 'Pasty', 'Chip', 'Macchiato', 'Melange', 'Chocola', 'Willow',\n",
       "       'Sooty', 'Quicksilver', 'Maple', 'Caramel', 'Joe DiMeowgio',\n",
       "       'Senor Don Gato', 'Xerxes IX', 'Chairman Meow', 'Saint Purrtrick',\n",
       "       'Ms. Fortune', 'Bob the Cat', 'Conductor Whiskers', 'Tubbs',\n",
       "       'Mr. Meowgi', 'Lady Meow-Meow', 'Guy Furry', 'Kathmandu',\n",
       "       'Ramses the Great', 'Sassy Fran', 'Billy the Kitten', 'Frosty',\n",
       "       'Sapphire', 'Jeeves', 'Bengal Jack', 'Whiteshadow', 'Hermeowne',\n",
       "       'Kitty Hawks'],\n",
       "      dtype='object')"
      ]
     },
     "execution_count": 20,
     "metadata": {},
     "output_type": "execute_result"
    }
   ],
   "source": [
    "# Cat names for reference\n",
    "df.columns[2:]"
   ]
  },
  {
   "cell_type": "code",
   "execution_count": 21,
   "metadata": {},
   "outputs": [
    {
     "name": "stdout",
     "output_type": "stream",
     "text": [
      "Optimal Food\n"
     ]
    },
    {
     "data": {
      "text/html": [
       "<div>\n",
       "<style scoped>\n",
       "    .dataframe tbody tr th:only-of-type {\n",
       "        vertical-align: middle;\n",
       "    }\n",
       "\n",
       "    .dataframe tbody tr th {\n",
       "        vertical-align: top;\n",
       "    }\n",
       "\n",
       "    .dataframe thead th {\n",
       "        text-align: right;\n",
       "    }\n",
       "</style>\n",
       "<table border=\"1\" class=\"dataframe\">\n",
       "  <thead>\n",
       "    <tr style=\"text-align: right;\">\n",
       "      <th></th>\n",
       "      <th>Name</th>\n",
       "      <th>Hermeowne</th>\n",
       "    </tr>\n",
       "  </thead>\n",
       "  <tbody>\n",
       "    <tr>\n",
       "      <th>10</th>\n",
       "      <td>Food: Bonito Bitz</td>\n",
       "      <td>10</td>\n",
       "    </tr>\n",
       "    <tr>\n",
       "      <th>5</th>\n",
       "      <td>Food: Thrifty Bitz</td>\n",
       "      <td>1</td>\n",
       "    </tr>\n",
       "    <tr>\n",
       "      <th>7</th>\n",
       "      <td>Food: Ritzy Bitz</td>\n",
       "      <td>1</td>\n",
       "    </tr>\n",
       "    <tr>\n",
       "      <th>8</th>\n",
       "      <td>Food: Sashimi</td>\n",
       "      <td>1</td>\n",
       "    </tr>\n",
       "    <tr>\n",
       "      <th>9</th>\n",
       "      <td>Food: Deluxe Tuna Bitz</td>\n",
       "      <td>1</td>\n",
       "    </tr>\n",
       "  </tbody>\n",
       "</table>\n",
       "</div>"
      ],
      "text/plain": [
       "                      Name Hermeowne\n",
       "10       Food: Bonito Bitz        10\n",
       "5       Food: Thrifty Bitz         1\n",
       "7         Food: Ritzy Bitz         1\n",
       "8            Food: Sashimi         1\n",
       "9   Food: Deluxe Tuna Bitz         1"
      ]
     },
     "metadata": {},
     "output_type": "display_data"
    },
    {
     "name": "stdout",
     "output_type": "stream",
     "text": [
      "Optimal Goodies\n"
     ]
    },
    {
     "data": {
      "text/html": [
       "<div>\n",
       "<style scoped>\n",
       "    .dataframe tbody tr th:only-of-type {\n",
       "        vertical-align: middle;\n",
       "    }\n",
       "\n",
       "    .dataframe tbody tr th {\n",
       "        vertical-align: top;\n",
       "    }\n",
       "\n",
       "    .dataframe thead th {\n",
       "        text-align: right;\n",
       "    }\n",
       "</style>\n",
       "<table border=\"1\" class=\"dataframe\">\n",
       "  <thead>\n",
       "    <tr style=\"text-align: right;\">\n",
       "      <th></th>\n",
       "      <th>Name</th>\n",
       "      <th>Hermeowne</th>\n",
       "    </tr>\n",
       "  </thead>\n",
       "  <tbody>\n",
       "    <tr>\n",
       "      <th>295</th>\n",
       "      <td>Egg Bed (Nightview) (top)</td>\n",
       "      <td>10</td>\n",
       "    </tr>\n",
       "  </tbody>\n",
       "</table>\n",
       "</div>"
      ],
      "text/plain": [
       "                          Name Hermeowne\n",
       "295  Egg Bed (Nightview) (top)        10"
      ]
     },
     "metadata": {},
     "output_type": "display_data"
    }
   ],
   "source": [
    "Optimize_Cat(\"Hermeowne\")"
   ]
  },
  {
   "attachments": {},
   "cell_type": "markdown",
   "metadata": {},
   "source": [
    "## Data Analysis"
   ]
  },
  {
   "cell_type": "code",
   "execution_count": 22,
   "metadata": {},
   "outputs": [],
   "source": [
    "temp = cat_data_df.drop(\"Original Row Sort\", axis = 1, inplace = False)\n",
    "temp = temp.T\n",
    "temp.columns = temp.iloc[0]\n",
    "temp = temp[1:]"
   ]
  },
  {
   "cell_type": "code",
   "execution_count": 28,
   "metadata": {},
   "outputs": [],
   "source": [
    "def add_count_on_top_of_bar(countplot):\n",
    "    for p in countplot.patches:\n",
    "        count = p.get_height()\n",
    "        x = p.get_x() + p.get_width() / 2\n",
    "        y = p.get_height()\n",
    "\n",
    "        countplot.annotate(int(count), (x, y), ha='center', va='bottom')\n",
    "\n",
    "    return countplot"
   ]
  },
  {
   "cell_type": "code",
   "execution_count": 24,
   "metadata": {},
   "outputs": [
    {
     "data": {
      "image/png": "[encoded data removed]",
      "text/plain": [
       "<Figure size 640x480 with 1 Axes>"
      ]
     },
     "metadata": {},
     "output_type": "display_data"
    }
   ],
   "source": [
    "countplot = sns.countplot(x = temp['Regular?'])\n",
    "countplot = add_count_on_top_of_bar(countplot)\n",
    "plt.xticks([0, 1], ['Regular', 'Special'])\n",
    "plt.xlabel(\"Regular vs Special\")\n",
    "\n",
    "plt.show()"
   ]
  },
  {
   "cell_type": "code",
   "execution_count": 33,
   "metadata": {},
   "outputs": [],
   "source": [
    "regular_cats = temp[temp['Regular?'] == \"TRUE\"].drop('Regular?', axis = 1)\n",
    "special_cats = temp[temp['Regular?'] == \"FALSE\"].drop('Regular?', axis = 1)"
   ]
  },
  {
   "cell_type": "code",
   "execution_count": 34,
   "metadata": {},
   "outputs": [
    {
     "data": {
      "text/html": [
       "<div>\n",
       "<style scoped>\n",
       "    .dataframe tbody tr th:only-of-type {\n",
       "        vertical-align: middle;\n",
       "    }\n",
       "\n",
       "    .dataframe tbody tr th {\n",
       "        vertical-align: top;\n",
       "    }\n",
       "\n",
       "    .dataframe thead th {\n",
       "        text-align: right;\n",
       "    }\n",
       "</style>\n",
       "<table border=\"1\" class=\"dataframe\">\n",
       "  <thead>\n",
       "    <tr style=\"text-align: right;\">\n",
       "      <th>Name</th>\n",
       "      <th>Cat Index</th>\n",
       "      <th>Power Level</th>\n",
       "      <th>Fish Gift Factor</th>\n",
       "    </tr>\n",
       "  </thead>\n",
       "  <tbody>\n",
       "    <tr>\n",
       "      <th>Snowball</th>\n",
       "      <td>0</td>\n",
       "      <td>80</td>\n",
       "      <td>90</td>\n",
       "    </tr>\n",
       "    <tr>\n",
       "      <th>Smokey</th>\n",
       "      <td>1</td>\n",
       "      <td>140</td>\n",
       "      <td>120</td>\n",
       "    </tr>\n",
       "    <tr>\n",
       "      <th>Spots</th>\n",
       "      <td>2</td>\n",
       "      <td>75</td>\n",
       "      <td>85</td>\n",
       "    </tr>\n",
       "    <tr>\n",
       "      <th>Shadow</th>\n",
       "      <td>3</td>\n",
       "      <td>50</td>\n",
       "      <td>130</td>\n",
       "    </tr>\n",
       "    <tr>\n",
       "      <th>Sunny</th>\n",
       "      <td>4</td>\n",
       "      <td>120</td>\n",
       "      <td>70</td>\n",
       "    </tr>\n",
       "  </tbody>\n",
       "</table>\n",
       "</div>"
      ],
      "text/plain": [
       "Name     Cat Index Power Level Fish Gift Factor\n",
       "Snowball         0          80               90\n",
       "Smokey           1         140              120\n",
       "Spots            2          75               85\n",
       "Shadow           3          50              130\n",
       "Sunny            4         120               70"
      ]
     },
     "execution_count": 34,
     "metadata": {},
     "output_type": "execute_result"
    }
   ],
   "source": [
    "regular_cats.head()"
   ]
  },
  {
   "cell_type": "code",
   "execution_count": 35,
   "metadata": {},
   "outputs": [
    {
     "data": {
      "text/html": [
       "<div>\n",
       "<style scoped>\n",
       "    .dataframe tbody tr th:only-of-type {\n",
       "        vertical-align: middle;\n",
       "    }\n",
       "\n",
       "    .dataframe tbody tr th {\n",
       "        vertical-align: top;\n",
       "    }\n",
       "\n",
       "    .dataframe thead th {\n",
       "        text-align: right;\n",
       "    }\n",
       "</style>\n",
       "<table border=\"1\" class=\"dataframe\">\n",
       "  <thead>\n",
       "    <tr style=\"text-align: right;\">\n",
       "      <th>Name</th>\n",
       "      <th>Cat Index</th>\n",
       "      <th>Power Level</th>\n",
       "      <th>Fish Gift Factor</th>\n",
       "    </tr>\n",
       "  </thead>\n",
       "  <tbody>\n",
       "    <tr>\n",
       "      <th>Joe DiMeowgio</th>\n",
       "      <td>45</td>\n",
       "      <td>28</td>\n",
       "      <td>400</td>\n",
       "    </tr>\n",
       "    <tr>\n",
       "      <th>Senor Don Gato</th>\n",
       "      <td>50</td>\n",
       "      <td>30</td>\n",
       "      <td>300</td>\n",
       "    </tr>\n",
       "    <tr>\n",
       "      <th>Xerxes IX</th>\n",
       "      <td>47</td>\n",
       "      <td>70</td>\n",
       "      <td>950</td>\n",
       "    </tr>\n",
       "    <tr>\n",
       "      <th>Chairman Meow</th>\n",
       "      <td>54</td>\n",
       "      <td>111</td>\n",
       "      <td>250</td>\n",
       "    </tr>\n",
       "    <tr>\n",
       "      <th>Saint Purrtrick</th>\n",
       "      <td>48</td>\n",
       "      <td>222</td>\n",
       "      <td>700</td>\n",
       "    </tr>\n",
       "  </tbody>\n",
       "</table>\n",
       "</div>"
      ],
      "text/plain": [
       "Name            Cat Index Power Level Fish Gift Factor\n",
       "Joe DiMeowgio          45          28              400\n",
       "Senor Don Gato         50          30              300\n",
       "Xerxes IX              47          70              950\n",
       "Chairman Meow          54         111              250\n",
       "Saint Purrtrick        48         222              700"
      ]
     },
     "execution_count": 35,
     "metadata": {},
     "output_type": "execute_result"
    }
   ],
   "source": [
    "special_cats.head()"
   ]
  },
  {
   "cell_type": "code",
   "execution_count": null,
   "metadata": {},
   "outputs": [],
   "source": []
  }
 ],
 "metadata": {
  "kernelspec": {
   "display_name": "Python 3",
   "language": "python",
   "name": "python3"
  },
  "language_info": {
   "codemirror_mode": {
    "name": "ipython",
    "version": 3
   },
   "file_extension": ".py",
   "mimetype": "text/x-python",
   "name": "python",
   "nbconvert_exporter": "python",
   "pygments_lexer": "ipython3",
   "version": "3.10.9"
  },
  "orig_nbformat": 4
 },
 "nbformat": 4,
 "nbformat_minor": 2
}
